{
 "cells": [
  {
   "cell_type": "code",
   "execution_count": 141,
   "id": "ed496461",
   "metadata": {},
   "outputs": [],
   "source": [
    "from charm.toolbox.pairinggroup import PairingGroup, ZR, G1, G2, pair, GT\n",
    "from charm.core.engine.util import objectToBytes\n",
    "from charm.toolbox.IBSig import IBSig\n",
    "from charm.schemes.pksig.pksig_bls04 import BLS01\n",
    "import sys,random"
   ]
  },
  {
   "cell_type": "code",
   "execution_count": 142,
   "id": "79063f67",
   "metadata": {},
   "outputs": [],
   "source": [
    "class BLS01Aggregation(BLS01):\n",
    "    def __init__(self, groupObj):\n",
    "        super().__init__(groupObj)  \n",
    "        self.group = groupObj  \n",
    "    def dump(self, obj):\n",
    "        return objectToBytes(obj, self.group)\n",
    "\n",
    "    def keygen(self, secparam=None, g=None):\n",
    "        if g is None:\n",
    "            g = self.group.random(G2)\n",
    "        x = self.group.random()\n",
    "        g_x = g ** x\n",
    "        pk = {'g^x': g_x, 'g': g, 'identity': str(g_x), 'secparam': secparam}\n",
    "        sk = {'x': x}\n",
    "        return (pk, sk)\n",
    "\n",
    "    def sign(self, x, message):\n",
    "        M = self.dump(message)\n",
    "        return self.group.hash(M, G1) ** x\n",
    "\n",
    "    def verify(self, pk, sig, message):\n",
    "        M = self.dump(message)\n",
    "        h = self.group.hash(M, G1)\n",
    "        if pair(sig, pk['g']) == pair(h, pk['g^x']):\n",
    "            return True  \n",
    "        return False \n",
    "    \n",
    "\n",
    "    def aggregation_verification(self, aggr_signature, publickey, msg, user_count , generator):\n",
    "        combined_rhs = None\n",
    "        lhs = pair(aggr_signature, generator)\n",
    "        # print(\"\\n\",lhs)\n",
    "        # rhs = {}\n",
    "        for i in range(user_count):\n",
    "            M = self.dump(msg[i])\n",
    "            h = self.group.hash(M, G1)\n",
    "            rhs = pair(h,publickey[i]['g^x'])\n",
    "            if combined_rhs is None:\n",
    "                combined_rhs = rhs\n",
    "            else:\n",
    "                combined_rhs = combined_rhs * rhs\n",
    "        # print(\"rhs\",combined_rhs)\n",
    "        if lhs==combined_rhs:\n",
    "            return True\n",
    "        else:\n",
    "            return False\n",
    "    \n",
    "    def aggregate_verify(self, signatures_agg, messages, public_keys, g2):\n",
    "        \"\"\"\n",
    "        Verify an aggregate BLS signature.\n",
    "\n",
    "        Args:\n",
    "            signatures_agg: Aggregate signature in G1\n",
    "            messages: List of distinct messages [m1, m2, ..., mk]\n",
    "            public_keys: Dictionary of public keys {0: pk0, 1: pk1, ..., k: pkk} where pk_i = {'g^x': v_i, ...}\n",
    "            g2: Generator of G2\n",
    "\n",
    "        Returns:\n",
    "            bool: True if valid, False otherwise\n",
    "        \"\"\"\n",
    "        # Step 1: Check that messages are distinct\n",
    "        if len(messages) != len(set(messages)):\n",
    "            return False\n",
    "\n",
    "        # Step 2: Compute h_i = H(self.dump(m_i)) for each message\n",
    "        h = [self.group.hash(self.dump(m), G1) for m in messages]\n",
    "\n",
    "        # Step 3: Compute LHS = e(signatures_agg, g2)\n",
    "        lhs = pair(signatures_agg, g2)\n",
    "\n",
    "        # Step 4: Compute RHS = product of e(h_i, v_i)\n",
    "        rhs = self.group.init(GT, 1)  # Identity element in GT\n",
    "        for i in range(len(messages)):\n",
    "            rhs *= pair(h[i], public_keys[i]['g^x'])\n",
    "\n",
    "        # Step 5: Check equality\n",
    "        return lhs == rhs\n",
    "    "
   ]
  },
  {
   "cell_type": "code",
   "execution_count": null,
   "id": "16f99e3d",
   "metadata": {},
   "outputs": [],
   "source": []
  },
  {
   "cell_type": "code",
   "execution_count": 143,
   "id": "01f1d3e8",
   "metadata": {},
   "outputs": [],
   "source": [
    "from charm.toolbox.pairinggroup import PairingGroup\n",
    "group = PairingGroup('MNT224')\n",
    "bls_aggregation = BLS01Aggregation(group)\n",
    "\n",
    "messages = ['Tom friends with Charlie',\n",
    "           'Where is the gold?',\n",
    "           'Charlie said he found the gold',\n",
    "           'Tom asked where?',\n",
    "           'Charlie said in the Ground.',\n",
    "           'Tom asking for a shovel.',\n",
    "           'Charlie Does not have a shovel',\n",
    "           'Tom Goes to Walmart and buys a shovel',\n",
    "           'Charlie uses the shovel to dig the ground',\n",
    "            'Tom and Charlie Finds Gold !'\n",
    "           ]\n",
    "\n",
    "\n",
    "users = [str(usr) for usr in range(10)]\n",
    "\n",
    "'''\n",
    "Message Association {User0: Msg0} ... {UserN: MsgN}\n",
    "0:\"Tom friends with Charlie\"\n",
    "'''\n",
    "\n",
    "#############------Generate PublicKey and Private/SecretKeys With a Generator------########\n",
    "'''\n",
    "'''\n",
    "\n",
    "user_secret_keys, user_public_keys = dict(), dict()\n",
    "generator = ''\n",
    "\n",
    "for index in range(0,len(users)):\n",
    "    if index==0:\n",
    "        pk, sk = bls_aggregation.keygen()\n",
    "        user_secret_keys[index] = sk\n",
    "        user_public_keys[index] = pk\n",
    "        generator = pk['g']\n",
    "    \n",
    "    else:\n",
    "        pk , sk = bls_aggregation.keygen(g=generator)\n",
    "        user_secret_keys[index] = sk\n",
    "        user_public_keys[index] = pk\n",
    "        \n",
    "\n",
    "#print('public:\\n',user_public_keys)\n",
    "#print('Secret:\\n',user_secret_keys)\n",
    "\n",
    "signature_dictionary = {}\n",
    "\n",
    "for index in range(0,len(users)):\n",
    "    sig = bls_aggregation.sign(user_secret_keys[index]['x'], messages[index])\n",
    "    signature_dictionary[index] = sig\n",
    "\n",
    "#print(signature_dictionary)\n",
    "\n",
    "\n"
   ]
  },
  {
   "cell_type": "markdown",
   "id": "b662f17b",
   "metadata": {},
   "source": [
    "### Aggregate Signatures\n",
    "\n",
    "#### Signatures from distinct Users for distinct messages can be aggregated. This Process is also known as Short Signature\n"
   ]
  },
  {
   "cell_type": "code",
   "execution_count": 144,
   "id": "c86c6665",
   "metadata": {},
   "outputs": [],
   "source": [
    "###################-----Aggregate the Signatures Dictionary--------################\n",
    "\n",
    "SIGNATURE_AGGREGATE = None\n",
    "for key,sign in signature_dictionary.items():\n",
    "    if SIGNATURE_AGGREGATE is None:\n",
    "        SIGNATURE_AGGREGATE = sign\n",
    "    else:\n",
    "        SIGNATURE_AGGREGATE = SIGNATURE_AGGREGATE + sign \n",
    "\n",
    "# #print('SIGNATURE_AGGREGATE ',SIGNATURE_AGGREGATE)\n",
    "# SIGNATURE_AGGREGATE = bls_aggregation.aggregate_signatures(signature_dictionary)"
   ]
  },
  {
   "cell_type": "code",
   "execution_count": null,
   "id": "71c25446",
   "metadata": {},
   "outputs": [],
   "source": [
    "\n",
    "\n"
   ]
  },
  {
   "cell_type": "code",
   "execution_count": 145,
   "id": "72ee07fc",
   "metadata": {},
   "outputs": [
    {
     "name": "stdout",
     "output_type": "stream",
     "text": [
      "Message Verification:  True\n"
     ]
    }
   ],
   "source": [
    "###############---------Verify the Aggregated Signature----------############\n",
    "\n",
    "\n",
    "is_verified = bls_aggregation.aggregate_verify(SIGNATURE_AGGREGATE, messages, user_public_keys,generator)\n",
    "                                              \n",
    "print('Message Verification: ',is_verified)\n",
    "\n"
   ]
  },
  {
   "cell_type": "code",
   "execution_count": null,
   "id": "d3ff78a1",
   "metadata": {},
   "outputs": [],
   "source": []
  },
  {
   "cell_type": "markdown",
   "id": "8eb35ac3",
   "metadata": {},
   "source": [
    "# Assignment 1 - Q1 "
   ]
  },
  {
   "cell_type": "markdown",
   "id": "2a5214d8",
   "metadata": {},
   "source": [
    "## Why for a valid aggregation verification for all the messages should be distinct ? "
   ]
  },
  {
   "cell_type": "markdown",
   "id": "89176c88",
   "metadata": {},
   "source": [
    "### Solution"
   ]
  },
  {
   "cell_type": "markdown",
   "id": "fbdd83ec",
   "metadata": {},
   "source": [
    "#### In the BLS signature scheme, multiple signatures from different users can be combined into a single aggregated signature. Each user signs its own message using their private key, and these signatures are multiplied together to form an aggregate. Verification  process then checks if this aggregated signature matches the expected combination of the messages and the users’ public keys. The  whole process is based on the mathematical properties of pairing-based alogrithms in cryptography. \n",
    "\n",
    "However it relies on one concept that all messages that are being signed are all distinct. \n"
   ]
  },
  {
   "cell_type": "markdown",
   "id": "e4928459",
   "metadata": {},
   "source": [
    "#### The main reason for having distinct messages is to prevent attacks that could exploit the way signatures are combined.\n",
    "#### When messages are not distinct (i.e., some users sign the same message), the aggregated signature can become ambiguous or manipulable, which allows an attacker to forge signatures or misrepresent who signed what ( An Identity Based Signature may solve this problem). "
   ]
  },
  {
   "cell_type": "markdown",
   "id": "c1df2109",
   "metadata": {},
   "source": [
    "###### One User may sign the message for another User but its identity will remain hidden as mathematically its not possible to know, who signed what in the current setting. "
   ]
  },
  {
   "cell_type": "markdown",
   "id": "f5bff4a9",
   "metadata": {},
   "source": [
    "##### Most Common Known Attack of this Kind is\n",
    "#### Rogue Key Attack\n",
    "\n"
   ]
  },
  {
   "cell_type": "markdown",
   "id": "1f5f2719",
   "metadata": {},
   "source": [
    "#### By Keeping the messages distinct we will be able to keep the attack away from the system, however there are other techniques that can help in mitigating this issue. "
   ]
  },
  {
   "cell_type": "markdown",
   "id": "dc7f3e5a",
   "metadata": {},
   "source": [
    "Full Mathematical Detail: \n",
    "` https://docs.google.com/document/d/1WcHOY1vJq5RDEiRBGRepwwPQViXTU6e7jy_olBGnhzI/edit?usp=sharing` \n"
   ]
  },
  {
   "cell_type": "markdown",
   "id": "18d0517f",
   "metadata": {},
   "source": [
    "##### Paper:\n",
    "- Aggregate and Verifiably Encrypted Signatures from Bilinear Maps\n",
    "- Paper Section 3.2 - Definition 5"
   ]
  },
  {
   "cell_type": "code",
   "execution_count": null,
   "id": "19905897",
   "metadata": {},
   "outputs": [],
   "source": []
  }
 ],
 "metadata": {
  "kernelspec": {
   "display_name": "Python 3 (ipykernel)",
   "language": "python",
   "name": "python3"
  },
  "language_info": {
   "codemirror_mode": {
    "name": "ipython",
    "version": 3
   },
   "file_extension": ".py",
   "mimetype": "text/x-python",
   "name": "python",
   "nbconvert_exporter": "python",
   "pygments_lexer": "ipython3",
   "version": "3.10.12"
  }
 },
 "nbformat": 4,
 "nbformat_minor": 5
}
