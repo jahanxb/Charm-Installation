{
 "cells": [
  {
   "cell_type": "code",
   "execution_count": 1,
   "id": "fa09d74d",
   "metadata": {},
   "outputs": [],
   "source": [
    "from charm.toolbox.pairinggroup import PairingGroup, ZR, G1, G2, pair\n",
    "from charm.core.engine.util import objectToBytes\n",
    "from charm.toolbox.IBSig import IBSig\n",
    "from charm.schemes.pksig.pksig_bls04 import BLS01\n",
    "import sys"
   ]
  },
  {
   "cell_type": "code",
   "execution_count": 2,
   "id": "c73ed9b7",
   "metadata": {},
   "outputs": [],
   "source": [
    "import random\n",
    "# Create a list of words\n",
    "words = [\"apple\", \"banana\", \"cherry\", \"dog\", \"elephant\", \"fish\", \"grape\", \"house\", \"ice cream\", \"juice\", \"kiwi\", \"lemon\", \"mango\", \"nut\", \"orange\", \"pear\", \"pineapple\", \"quince\", \"raspberry\", \"strawberry\", \"tomato\", \"umbrella\", \"violet\", \"watermelon\", \"x-ray\", \"yacht\", \"zebra\"]"
   ]
  },
  {
   "cell_type": "code",
   "execution_count": 3,
   "id": "fd03dc2b",
   "metadata": {},
   "outputs": [],
   "source": [
    "# Building a custom BLS group with required functionalities \n",
    "class CustomBLS01(BLS01):\n",
    "    def __init__(self, groupObj):\n",
    "        super().__init__(groupObj)  \n",
    "        self.group = groupObj  \n",
    "    def dump(self, obj):\n",
    "        return objectToBytes(obj, self.group)\n",
    "\n",
    "    def keygen(self, secparam=None, g=None):\n",
    "        if g is None:\n",
    "            g = self.group.random(G2)\n",
    "        x = self.group.random()\n",
    "        g_x = g ** x\n",
    "        pk = {'g^x': g_x, 'g': g, 'identity': str(g_x), 'secparam': secparam}\n",
    "        sk = {'x': x}\n",
    "        return (pk, sk)\n",
    "\n",
    "    def sign(self, x, message):\n",
    "        M = self.dump(message)\n",
    "        return self.group.hash(M, G1) ** x\n",
    "\n",
    "    def verify(self, pk, sig, message):\n",
    "        M = self.dump(message)\n",
    "        h = self.group.hash(M, G1)\n",
    "        if pair(sig, pk['g']) == pair(h, pk['g^x']):\n",
    "            return True  \n",
    "        return False \n",
    "    def aggregate(self, signatures):\n",
    "        # Initialize the aggregated signature with 'None'. This will be updated with the first signature.\n",
    "        aggregated_signature = None\n",
    "        \n",
    "        # Iterate over all the signatures in the dictionary\n",
    "        for _, sig in signatures.items():\n",
    "            # If the aggregated signature is None, this is the first signature, so we initialize it.\n",
    "            if aggregated_signature is None:\n",
    "                aggregated_signature = sig\n",
    "            else:\n",
    "                # Otherwise, we aggregate by adding the current signature to the aggregated signature.\n",
    "                aggregated_signature = aggregated_signature + sig\n",
    "                \n",
    "        return aggregated_signature\n",
    "\n",
    "    def aggregate_verify(self, agg_sign, pk, messages, user_count , generator):\n",
    "        combined_rhs = None\n",
    "        lhs = pair(agg_sign, generator)\n",
    "        # print(\"\\n\",lhs)\n",
    "        # rhs = {}\n",
    "        for i in range(user_count):\n",
    "            M = self.dump(messages[i])\n",
    "            h = self.group.hash(M, G1)\n",
    "            rhs = pair(h,pk[i]['g^x'])\n",
    "            if combined_rhs is None:\n",
    "                combined_rhs = rhs\n",
    "            else:\n",
    "                combined_rhs = combined_rhs * rhs\n",
    "        # print(\"rhs\",combined_rhs)\n",
    "        if lhs==combined_rhs:\n",
    "            return True\n",
    "        else:\n",
    "            return False"
   ]
  },
  {
   "cell_type": "code",
   "execution_count": 4,
   "id": "689d3dea",
   "metadata": {},
   "outputs": [
    {
     "name": "stdout",
     "output_type": "stream",
     "text": [
      "True\n"
     ]
    }
   ],
   "source": [
    "#initialize  group\n",
    "groupObj = PairingGroup('MNT224')\n",
    "bls_custom = CustomBLS01(groupObj)\n",
    "\n",
    "#users and messages\n",
    "message_count = user_count = 3\n",
    "message={}\n",
    "\n",
    "# random words \n",
    "for i in range(message_count):\n",
    "    message[i] = random.choice(words)\n",
    "\n",
    "#generate public and secret keys with a generator\n",
    "pk_a, sk_a = bls_custom.keygen()\n",
    "generator =pk_a['g']\n",
    "pk_b, sk_b = bls_custom.keygen(g=generator)\n",
    "pk_c, sk_c = bls_custom.keygen(g=generator)\n",
    "\n",
    "\n",
    "\n",
    "#sign the respective messages\n",
    "a_sig = bls_custom.sign(sk_a['x'], message[0])\n",
    "b_sig = bls_custom.sign(sk_b['x'], message[1])\n",
    "c_sig = bls_custom.sign(sk_c['x'], message[2])\n",
    "\n",
    "#add signatures & Public Keys into Dictonary\n",
    "signatures={}\n",
    "signatures[0] = a_sig\n",
    "signatures[1] = b_sig\n",
    "signatures[2] = c_sig\n",
    "\n",
    "pk = {}\n",
    "pk[0] = pk_a\n",
    "pk[1] = pk_b\n",
    "pk[2] = pk_c\n",
    "\n",
    "#aggregate signatures\n",
    "sig_agg = bls_custom.aggregate(signatures)\n",
    "\n",
    "#verify the aggregated signature\n",
    "print(bls_custom.aggregate_verify(sig_agg, pk, message, user_count,generator))"
   ]
  },
  {
   "cell_type": "code",
   "execution_count": null,
   "id": "93bf0353",
   "metadata": {},
   "outputs": [],
   "source": []
  }
 ],
 "metadata": {
  "kernelspec": {
   "display_name": "Python 3 (ipykernel)",
   "language": "python",
   "name": "python3"
  },
  "language_info": {
   "codemirror_mode": {
    "name": "ipython",
    "version": 3
   },
   "file_extension": ".py",
   "mimetype": "text/x-python",
   "name": "python",
   "nbconvert_exporter": "python",
   "pygments_lexer": "ipython3",
   "version": "3.10.12"
  }
 },
 "nbformat": 4,
 "nbformat_minor": 5
}
