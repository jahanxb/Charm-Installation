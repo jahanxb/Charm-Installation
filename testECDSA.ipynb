{
 "cells": [
  {
   "cell_type": "code",
   "execution_count": 2,
   "id": "3cc0e526",
   "metadata": {},
   "outputs": [],
   "source": [
    "\"\"\" \n",
    "Digital Signature Algorithm (DSA)\n",
    "\n",
    "| From: \"NIST proposed in Aug 1991 for use in DSS.\"\n",
    "| Published in: FIPS 186\n",
    "| Available from: \n",
    "| Notes: \n",
    "\n",
    "* type:           signature\n",
    "* setting:        elliptic curve groups\n",
    "\n",
    ":Authors:    J. Ayo Akinyele\n",
    ":Date:       5/2011\n",
    "\"\"\"\n",
    "from charm.toolbox.ecgroup import ECGroup,ZR,G\n",
    "from charm.toolbox.PKSig import PKSig\n",
    "\n",
    "debug = False\n",
    "class ECDSA(PKSig):\n",
    "    \"\"\"\n",
    "    >>> from charm.toolbox.eccurve import prime192v2\n",
    "    >>> group = ECGroup(prime192v2)\n",
    "    >>> ecdsa = ECDSA(group)\n",
    "    >>> (public_key, secret_key) = ecdsa.keygen(0)\n",
    "    >>> msg = \"hello world! this is a test message.\"\n",
    "    >>> signature = ecdsa.sign(public_key, secret_key, msg)\n",
    "    >>> ecdsa.verify(public_key, signature, msg)\n",
    "    True\n",
    "    \"\"\"\n",
    "    def __init__(self, groupObj):\n",
    "        PKSig.__init__(self)\n",
    "        global group\n",
    "        group = groupObj\n",
    "    \n",
    "    def keygen(self, bits):\n",
    "        group.paramgen(bits)\n",
    "        x, g = group.random(), group.random(G)\n",
    "        y = (g ** x)\n",
    "        return ({'g':g, 'y':y}, x)\n",
    "\n",
    "    \n",
    "    def sign(self, pk, x, M):\n",
    "        while True:\n",
    "            k = group.random()\n",
    "            r = group.zr(pk['g'] ** k)\n",
    "            e = group.hash(M)\n",
    "            s = (k ** -1) * (e + x * r)\n",
    "            if (r == 0 or s == 0):\n",
    "                print (\"unlikely error r = %s, s = %s\" % (r,s))\n",
    "                continue\n",
    "            else:\n",
    "                break\n",
    "        return { 'r':r, 's':s }\n",
    "\n",
    "        \n",
    "    def verify(self, pk, sig, M):\n",
    "        w = sig['s'] ** -1\n",
    "        u1 = group.hash(M) * w\n",
    "        u2 = sig['r'] * w\n",
    "        v = (pk['g'] ** u1) * (pk['y'] ** u2)\n",
    "    \n",
    "        if group.zr(v) == sig['r']:\n",
    "            return True\n",
    "        else:\n",
    "            return False"
   ]
  },
  {
   "cell_type": "code",
   "execution_count": 3,
   "id": "742ec6f8",
   "metadata": {},
   "outputs": [
    {
     "data": {
      "text/plain": [
       "True"
      ]
     },
     "execution_count": 3,
     "metadata": {},
     "output_type": "execute_result"
    }
   ],
   "source": [
    "from charm.toolbox.eccurve import prime192v2\n",
    "group = ECGroup(prime192v2)\n",
    "ecdsa = ECDSA(group)\n",
    "(public_key, secret_key) = ecdsa.keygen(0)\n",
    "msg = \"hello world! this is a test message.\"\n",
    "signature = ecdsa.sign(public_key, secret_key, msg)\n",
    "ecdsa.verify(public_key, signature, msg)"
   ]
  },
  {
   "cell_type": "code",
   "execution_count": null,
   "id": "c1808e86",
   "metadata": {},
   "outputs": [],
   "source": []
  }
 ],
 "metadata": {
  "kernelspec": {
   "display_name": "Python 3 (ipykernel)",
   "language": "python",
   "name": "python3"
  },
  "language_info": {
   "codemirror_mode": {
    "name": "ipython",
    "version": 3
   },
   "file_extension": ".py",
   "mimetype": "text/x-python",
   "name": "python",
   "nbconvert_exporter": "python",
   "pygments_lexer": "ipython3",
   "version": "3.10.12"
  }
 },
 "nbformat": 4,
 "nbformat_minor": 5
}
