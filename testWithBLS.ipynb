{
 "cells": [
  {
   "cell_type": "code",
   "execution_count": 1,
   "id": "423f8af3",
   "metadata": {},
   "outputs": [],
   "source": [
    "from charm.toolbox.pairinggroup import PairingGroup\n",
    "from charm.toolbox.pairinggroup import PairingGroup,ZR,G1,G2,pair\n",
    "from charm.core.engine.util import objectToBytes\n",
    "from charm.toolbox.IBSig import *"
   ]
  },
  {
   "cell_type": "code",
   "execution_count": 2,
   "id": "db53e2ab",
   "metadata": {},
   "outputs": [],
   "source": [
    "group = PairingGroup('MNT224')"
   ]
  },
  {
   "cell_type": "code",
   "execution_count": 3,
   "id": "438ac021",
   "metadata": {},
   "outputs": [],
   "source": [
    "messages = { 'a':\"hello world!!!\" , 'b':\"test message\" }"
   ]
  },
  {
   "cell_type": "code",
   "execution_count": 4,
   "id": "0e9e106a",
   "metadata": {},
   "outputs": [],
   "source": [
    "class BLS01(IBSig):\n",
    "    \"\"\"\n",
    "    >>> from charm.toolbox.pairinggroup import PairingGroup\n",
    "    >>> group = PairingGroup('MNT224')\n",
    "    >>> messages = { 'a':\"hello world!!!\" , 'b':\"test message\" }\n",
    "    >>> ib = BLS01(group)\n",
    "    >>> (public_key, secret_key) = ib.keygen()\n",
    "    >>> signature = ib.sign(secret_key['x'], messages)\n",
    "    >>> ib.verify(public_key, signature, messages) \n",
    "    True\n",
    "    \"\"\"\n",
    "    def __init__(self, groupObj):\n",
    "        IBSig.__init__(self)\n",
    "        global group\n",
    "        group = groupObj\n",
    "        \n",
    "    def dump(self, obj):\n",
    "        return objectToBytes(obj, group)\n",
    "\n",
    "            \n",
    "    def keygen(self, secparam=None):\n",
    "        g, x = group.random(G2), group.random()\n",
    "        g_x = g ** x\n",
    "        pk = { 'g^x':g_x, 'g':g, 'identity':str(g_x), 'secparam':secparam }\n",
    "        sk = { 'x':x }\n",
    "        return (pk, sk)\n",
    "\n",
    "        \n",
    "    def sign(self, x, message):\n",
    "        M = self.dump(message)\n",
    "        if debug: print(\"Message => '%s'\" % M)\n",
    "        return group.hash(M, G1) ** x\n",
    "\n",
    "        \n",
    "    def verify(self, pk, sig, message):\n",
    "        M = self.dump(message)\n",
    "        h = group.hash(M, G1)\n",
    "        if pair(sig, pk['g']) == pair(h, pk['g^x']):\n",
    "            return True  \n",
    "        return False "
   ]
  },
  {
   "cell_type": "code",
   "execution_count": 5,
   "id": "8ac724b6",
   "metadata": {},
   "outputs": [],
   "source": [
    " ib = BLS01(group)"
   ]
  },
  {
   "cell_type": "code",
   "execution_count": 6,
   "id": "c9663316",
   "metadata": {},
   "outputs": [],
   "source": [
    "(public_key, secret_key) = ib.keygen()"
   ]
  },
  {
   "cell_type": "code",
   "execution_count": 7,
   "id": "fcd14a51",
   "metadata": {},
   "outputs": [
    {
     "name": "stdout",
     "output_type": "stream",
     "text": [
      "Message => 'b'eJyrVkpUslJQKi4psspIzcnJVyjPL8pJUVRUVNJRUEqCSZWkFpco5KYWFyempyrVAgCksxB2''\n",
      "Message: '{'a': 'hello world!!!', 'b': 'test message'}'\n",
      "Signature: '[4857852748510654999803716777816695929364889829765999537693187692095, 6437015932734028382752684848868850331652741604816271142043825884660]'\n",
      "SUCCESS!!!\n"
     ]
    }
   ],
   "source": [
    "def main():\n",
    "    groupObj = PairingGroup('MNT224')\n",
    "    \n",
    "    m = { 'a':\"hello world!!!\" , 'b':\"test message\" }\n",
    "    bls = BLS01(groupObj)\n",
    "    \n",
    "    (pk, sk) = bls.keygen()\n",
    "    \n",
    "    sig = bls.sign(sk['x'], m)\n",
    "    \n",
    "    if debug: print(\"Message: '%s'\" % m)\n",
    "    if debug: print(\"Signature: '%s'\" % sig)     \n",
    "    assert bls.verify(pk, sig, m), \"Failure!!!\"\n",
    "    if debug: print('SUCCESS!!!')\n",
    "\n",
    "    \n",
    "if __name__ == \"__main__\":\n",
    "    debug = True\n",
    "    main()"
   ]
  },
  {
   "cell_type": "code",
   "execution_count": 8,
   "id": "b532640f",
   "metadata": {},
   "outputs": [
    {
     "name": "stdout",
     "output_type": "stream",
     "text": [
      "Message => 'b'eJyrVkpUslJQKi4psspIzcnJVyjPL8pJUVRUVNJRUEqCSZWkFpco5KYWFyempyrVAgCksxB2''\n"
     ]
    }
   ],
   "source": [
    "signature = ib.sign(secret_key['x'], messages)"
   ]
  },
  {
   "cell_type": "code",
   "execution_count": 9,
   "id": "0be9a2ff",
   "metadata": {},
   "outputs": [
    {
     "data": {
      "text/plain": [
       "True"
      ]
     },
     "execution_count": 9,
     "metadata": {},
     "output_type": "execute_result"
    }
   ],
   "source": [
    "ib.verify(public_key, signature, messages) "
   ]
  },
  {
   "cell_type": "code",
   "execution_count": null,
   "id": "7ef710c8",
   "metadata": {},
   "outputs": [],
   "source": []
  }
 ],
 "metadata": {
  "kernelspec": {
   "display_name": "Python 3 (ipykernel)",
   "language": "python",
   "name": "python3"
  },
  "language_info": {
   "codemirror_mode": {
    "name": "ipython",
    "version": 3
   },
   "file_extension": ".py",
   "mimetype": "text/x-python",
   "name": "python",
   "nbconvert_exporter": "python",
   "pygments_lexer": "ipython3",
   "version": "3.12.3"
  }
 },
 "nbformat": 4,
 "nbformat_minor": 5
}
