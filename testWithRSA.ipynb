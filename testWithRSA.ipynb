{
 "cells": [
  {
   "cell_type": "code",
   "execution_count": 1,
   "id": "c80a980e",
   "metadata": {},
   "outputs": [],
   "source": [
    "'''\n",
    "| From: \"Rivest-Shamir-Adleman Standard algorithm\".\n",
    "| Published in: 1978\n",
    "| Security Assumption: RSA factoring\n",
    "\n",
    "* type:           public-key encryption\n",
    "* setting:        Integer\n",
    "\n",
    ":Authors: J Ayo Akinyele, Gary Belvin\n",
    ":Date:            07/2011\n",
    "'''\n",
    "\n",
    "from charm.core.math.integer import integer,isPrime,gcd,random,randomPrime,toInt\n",
    "from charm.toolbox.PKEnc import PKEnc\n",
    "from charm.toolbox.PKSig import PKSig\n",
    "from charm.toolbox.paddingschemes import OAEPEncryptionPadding,PSSPadding\n",
    "from charm.toolbox.conversion import Conversion\n",
    "from math import ceil\n"
   ]
  },
  {
   "cell_type": "code",
   "execution_count": 2,
   "id": "69501e80",
   "metadata": {},
   "outputs": [],
   "source": [
    "debug = False\n",
    "class RSA():\n",
    "    def __init__(self):\n",
    "        pass\n",
    "    # generate p,q and n\n",
    "    def paramgen(self, secparam):\n",
    "        while True:\n",
    "            p, q = randomPrime(secparam), randomPrime(secparam)\n",
    "            if isPrime(p) and isPrime(q) and p != q:\n",
    "                N = p * q\n",
    "                phi_N = (p - 1) * (q - 1)\n",
    "                break\n",
    "        return (p, q, N, phi_N)\n",
    "\n",
    "    \n",
    "    def keygen(self, secparam=1024, params=None):\n",
    "        if params: \n",
    "            (N, e, d, p, q) = self.convert(params)\n",
    "            phi_N = (p - 1) * (q - 1)\n",
    "            pk = { 'N':N, 'e':e }\n",
    "            sk = { 'phi_N':phi_N, 'd':d , 'N':N}\n",
    "            return (pk, sk)\n",
    "\n",
    "        (p, q, N, phi_N) = self.paramgen(secparam)\n",
    "        \n",
    "        while True:\n",
    "            e = random(phi_N)\n",
    "            if not gcd(e, phi_N) == 1:\n",
    "                continue\n",
    "            d = e ** -1\n",
    "            break\n",
    "        pk = { 'N':N, 'e':toInt(e) } # strip off \\phi\n",
    "        sk = { 'phi_N':phi_N, 'd':d , 'N':N}\n",
    "\n",
    "        return (pk, sk)\n",
    "\n",
    "    \n",
    "    def convert(self, N, e, d, p, q):\n",
    "        return (integer(N), integer(e), integer(d), \n",
    "                integer(p), integer(q))"
   ]
  },
  {
   "cell_type": "code",
   "execution_count": 3,
   "id": "ee47f5a6",
   "metadata": {},
   "outputs": [],
   "source": [
    "class RSA_Enc(RSA,PKEnc):\n",
    "    \"\"\"\n",
    "    >>> rsa = RSA_Enc()\n",
    "    >>> (public_key, secret_key) = rsa.keygen(1024)\n",
    "    >>> msg = b'This is a test'\n",
    "    >>> cipher_text = rsa.encrypt(public_key, msg)\n",
    "    >>> decrypted_msg = rsa.decrypt(public_key, secret_key, cipher_text)\n",
    "    >>> decrypted_msg == msg\n",
    "    True\n",
    "    \"\"\"\n",
    "    def __init__(self, padding=OAEPEncryptionPadding(), params=None):\n",
    "        RSA.__init__(self)\n",
    "        PKEnc.__init__(self)\n",
    "        self.paddingscheme = padding \n",
    "    # m : Bytes\n",
    "    def encrypt(self, pk, m, salt=None):\n",
    "        octetlen = int(ceil(int(pk['N']).bit_length() / 8.0))\n",
    "        EM = self.paddingscheme.encode(m, octetlen, \"\", salt)\n",
    "        if debug: print(\"EM == >\", EM)\n",
    "        i = Conversion.OS2IP(EM)\n",
    "        ip = integer(i) % pk['N']  #Convert to modular integer\n",
    "        return (ip ** pk['e']) % pk['N']\n",
    "\n",
    "    \n",
    "    def decrypt(self, pk, sk, c):\n",
    "        octetlen = int(ceil(int(pk['N']).bit_length() / 8.0))\n",
    "        M = (c ** (sk['d'] % sk['phi_N'])) % pk['N']\n",
    "        os = Conversion.IP2OS(int(M), octetlen)\n",
    "        if debug: print(\"OS  =>\", os)\n",
    "        return self.paddingscheme.decode(os)"
   ]
  },
  {
   "cell_type": "code",
   "execution_count": 4,
   "id": "f4bdf968",
   "metadata": {},
   "outputs": [],
   "source": [
    "class RSA_Sig(RSA, PKSig):\n",
    "    \"\"\"\n",
    "    >>> msg = b'This is a test message.'\n",
    "    >>> rsa = RSA_Sig()\n",
    "    >>> (public_key, secret_key) = rsa.keygen(1024)\n",
    "    >>> signature = rsa.sign(secret_key, msg)\n",
    "    >>> rsa.verify(public_key, msg, signature)\n",
    "    True\n",
    "    \"\"\"\n",
    "    '''RSASSA-PSS'''\n",
    "    def __init__(self, padding=PSSPadding()):\n",
    "        RSA.__init__(self)\n",
    "        PKSig.__init__(self)\n",
    "        self.paddingscheme = padding \n",
    "\n",
    "    def sign(self,sk, M, salt=None):\n",
    "        #apply encoding\n",
    "        modbits = int(sk['N']).bit_length()\n",
    "        k = int(ceil(modbits / 8.0))\n",
    "        emLen = int(ceil((modbits -1) / 8.0))\n",
    "        \n",
    "        \n",
    "        em = self.paddingscheme.encode(M, modbits - 1, salt)\n",
    "        m = Conversion.OS2IP(em)\n",
    "        m = integer(m) % sk['N']  #ERRROR m is larger than N\n",
    "        s =  (m ** sk['d']) % sk['N']\n",
    "        S = Conversion.IP2OS(s, k)\n",
    "        if debug:\n",
    "            print(\"Signing\")\n",
    "            print(\"k     =>\", k)\n",
    "            print(\"emLen =>\", emLen) \n",
    "            print(\"m     =>\", m)\n",
    "            print(\"em    =>\", em)\n",
    "            print(\"s     =>\", s)\n",
    "            print(\"S     =>\", S)\n",
    "        return S\n",
    "\n",
    "    \n",
    "    def verify(self, pk, M, S):\n",
    "        modbits = int(pk['N']).bit_length()\n",
    "        k = int(ceil(modbits / 8.0))\n",
    "        emLen = int(ceil((modbits -1) / 8.0))\n",
    "        if len(S) != k:\n",
    "            if debug: print(\"Sig is %s octets long, not %\" %(len(S), k))\n",
    "            return False\n",
    "        s = Conversion.OS2IP(S)\n",
    "        s = integer(s) % pk['N']  #Convert to modular integer\n",
    "        m = (s ** pk['e']) % pk['N']\n",
    "        EM = Conversion.IP2OS(m, emLen)\n",
    "        if debug:\n",
    "            print(\"Verifying\")\n",
    "            print(\"k     =>\", k)\n",
    "            print(\"emLen =>\", emLen)\n",
    "            print(\"s     =>\", s)\n",
    "            print(\"m       =>\", m)\n",
    "            print(\"em      =>\", EM)\n",
    "            print(\"S     =>\", S)\n",
    "        return self.paddingscheme.verify(M, EM, modbits-1)"
   ]
  },
  {
   "cell_type": "code",
   "execution_count": 6,
   "id": "381a44db",
   "metadata": {},
   "outputs": [],
   "source": [
    "### Encrypt / Decrypt a Message "
   ]
  },
  {
   "cell_type": "code",
   "execution_count": 7,
   "id": "c12cc48d",
   "metadata": {},
   "outputs": [
    {
     "data": {
      "text/plain": [
       "True"
      ]
     },
     "execution_count": 7,
     "metadata": {},
     "output_type": "execute_result"
    }
   ],
   "source": [
    "rsa = RSA_Enc()\n",
    "(public_key, secret_key) = rsa.keygen(1024)\n",
    "msg = b'This is a test'\n",
    "cipher_text = rsa.encrypt(public_key, msg)\n",
    "decrypted_msg = rsa.decrypt(public_key, secret_key, cipher_text)\n",
    "decrypted_msg == msg\n"
   ]
  },
  {
   "cell_type": "code",
   "execution_count": 8,
   "id": "3cfb91aa",
   "metadata": {},
   "outputs": [],
   "source": [
    "### Sign and Verify a Message "
   ]
  },
  {
   "cell_type": "code",
   "execution_count": 9,
   "id": "387dd505",
   "metadata": {},
   "outputs": [
    {
     "data": {
      "text/plain": [
       "True"
      ]
     },
     "execution_count": 9,
     "metadata": {},
     "output_type": "execute_result"
    }
   ],
   "source": [
    "msg = b'This is a test message.'\n",
    "rsa = RSA_Sig()\n",
    "(public_key, secret_key) = rsa.keygen(1024)\n",
    "signature = rsa.sign(secret_key, msg)\n",
    "rsa.verify(public_key, msg, signature)"
   ]
  },
  {
   "cell_type": "code",
   "execution_count": null,
   "id": "1d7b0d5d",
   "metadata": {},
   "outputs": [],
   "source": []
  }
 ],
 "metadata": {
  "kernelspec": {
   "display_name": "Python 3 (ipykernel)",
   "language": "python",
   "name": "python3"
  },
  "language_info": {
   "codemirror_mode": {
    "name": "ipython",
    "version": 3
   },
   "file_extension": ".py",
   "mimetype": "text/x-python",
   "name": "python",
   "nbconvert_exporter": "python",
   "pygments_lexer": "ipython3",
   "version": "3.10.12"
  }
 },
 "nbformat": 4,
 "nbformat_minor": 5
}
